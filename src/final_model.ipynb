{
  "cells": [
    {
      "cell_type": "code",
      "execution_count": null,
      "metadata": {
        "colab": {
          "base_uri": "https://localhost:8080/"
        },
        "id": "LJulH3fFrUYJ",
        "outputId": "f9c99cb4-d6ba-474e-e27e-046377b6e5e8"
      },
      "outputs": [
        {
          "output_type": "stream",
          "name": "stdout",
          "text": [
            "\u001b[2K     \u001b[90m━━━━━━━━━━━━━━━━━━━━━━━━━━━━━━━━━━━━━━━━\u001b[0m \u001b[32m2.1/2.1 MB\u001b[0m \u001b[31m13.6 MB/s\u001b[0m eta \u001b[36m0:00:00\u001b[0m\n",
            "\u001b[2K     \u001b[90m━━━━━━━━━━━━━━━━━━━━━━━━━━━━━━━━━━━━━━━━\u001b[0m \u001b[32m190.6/190.6 kB\u001b[0m \u001b[31m16.2 MB/s\u001b[0m eta \u001b[36m0:00:00\u001b[0m\n",
            "\u001b[2K     \u001b[90m━━━━━━━━━━━━━━━━━━━━━━━━━━━━━━━━━━━━━━━━\u001b[0m \u001b[32m243.9/243.9 kB\u001b[0m \u001b[31m16.4 MB/s\u001b[0m eta \u001b[36m0:00:00\u001b[0m\n",
            "\u001b[?25h  Preparing metadata (setup.py) ... \u001b[?25l\u001b[?25hdone\n",
            "\u001b[2K     \u001b[90m━━━━━━━━━━━━━━━━━━━━━━━━━━━━━━━━━━━━━━━━\u001b[0m \u001b[32m62.7/62.7 kB\u001b[0m \u001b[31m8.5 MB/s\u001b[0m eta \u001b[36m0:00:00\u001b[0m\n",
            "\u001b[?25h  Building wheel for pathtools (setup.py) ... \u001b[?25l\u001b[?25hdone\n"
          ]
        }
      ],
      "source": [
        "!pip install -Uq wandb"
      ]
    },
    {
      "cell_type": "code",
      "execution_count": null,
      "metadata": {
        "colab": {
          "base_uri": "https://localhost:8080/",
          "height": 71
        },
        "id": "Pm-MtsiCrYZN",
        "outputId": "c774033f-4c77-45c4-c6b8-d87e608e1f73"
      },
      "outputs": [
        {
          "output_type": "display_data",
          "data": {
            "text/plain": [
              "<IPython.core.display.Javascript object>"
            ],
            "application/javascript": [
              "\n",
              "        window._wandbApiKey = new Promise((resolve, reject) => {\n",
              "            function loadScript(url) {\n",
              "            return new Promise(function(resolve, reject) {\n",
              "                let newScript = document.createElement(\"script\");\n",
              "                newScript.onerror = reject;\n",
              "                newScript.onload = resolve;\n",
              "                document.body.appendChild(newScript);\n",
              "                newScript.src = url;\n",
              "            });\n",
              "            }\n",
              "            loadScript(\"https://cdn.jsdelivr.net/npm/postmate/build/postmate.min.js\").then(() => {\n",
              "            const iframe = document.createElement('iframe')\n",
              "            iframe.style.cssText = \"width:0;height:0;border:none\"\n",
              "            document.body.appendChild(iframe)\n",
              "            const handshake = new Postmate({\n",
              "                container: iframe,\n",
              "                url: 'https://wandb.ai/authorize'\n",
              "            });\n",
              "            const timeout = setTimeout(() => reject(\"Couldn't auto authenticate\"), 5000)\n",
              "            handshake.then(function(child) {\n",
              "                child.on('authorize', data => {\n",
              "                    clearTimeout(timeout)\n",
              "                    resolve(data)\n",
              "                });\n",
              "            });\n",
              "            })\n",
              "        });\n",
              "    "
            ]
          },
          "metadata": {}
        },
        {
          "output_type": "stream",
          "name": "stderr",
          "text": [
            "\u001b[34m\u001b[1mwandb\u001b[0m: Appending key for api.wandb.ai to your netrc file: /root/.netrc\n"
          ]
        },
        {
          "output_type": "execute_result",
          "data": {
            "text/plain": [
              "True"
            ]
          },
          "metadata": {},
          "execution_count": 2
        }
      ],
      "source": [
        "# Logeo a wandb.\n",
        "import wandb\n",
        "wandb.login()"
      ]
    },
    {
      "cell_type": "code",
      "execution_count": null,
      "metadata": {
        "colab": {
          "base_uri": "https://localhost:8080/",
          "height": 1000
        },
        "id": "eqHnmJeNradL",
        "outputId": "7cd26b00-4a96-422d-9435-120fd27c8ac8"
      },
      "outputs": [
        {
          "output_type": "stream",
          "name": "stdout",
          "text": [
            "Downloading https://www.cs.toronto.edu/~kriz/cifar-10-python.tar.gz to ./data/cifar-10-python.tar.gz\n"
          ]
        },
        {
          "output_type": "stream",
          "name": "stderr",
          "text": [
            "100%|██████████| 170498071/170498071 [00:05<00:00, 29493781.66it/s]\n"
          ]
        },
        {
          "output_type": "stream",
          "name": "stdout",
          "text": [
            "Extracting ./data/cifar-10-python.tar.gz to ./data\n",
            "Files already downloaded and verified\n",
            "Files already downloaded and verified\n"
          ]
        },
        {
          "output_type": "stream",
          "name": "stderr",
          "text": [
            "/usr/local/lib/python3.10/dist-packages/torchvision/models/_utils.py:223: UserWarning: Arguments other than a weight enum or `None` for 'weights' are deprecated since 0.13 and may be removed in the future. The current behavior is equivalent to passing `weights=ResNet50_Weights.IMAGENET1K_V1`. You can also use `weights=ResNet50_Weights.DEFAULT` to get the most up-to-date weights.\n",
            "  warnings.warn(msg)\n",
            "Downloading: \"https://download.pytorch.org/models/resnet50-0676ba61.pth\" to /root/.cache/torch/hub/checkpoints/resnet50-0676ba61.pth\n",
            "100%|██████████| 97.8M/97.8M [00:01<00:00, 90.8MB/s]\n",
            "\u001b[34m\u001b[1mwandb\u001b[0m: Currently logged in as: \u001b[33mfgiorgi\u001b[0m (\u001b[33mcarrostp3\u001b[0m). Use \u001b[1m`wandb login --relogin`\u001b[0m to force relogin\n"
          ]
        },
        {
          "output_type": "display_data",
          "data": {
            "text/plain": [
              "<IPython.core.display.HTML object>"
            ],
            "text/html": [
              "Tracking run with wandb version 0.15.12"
            ]
          },
          "metadata": {}
        },
        {
          "output_type": "display_data",
          "data": {
            "text/plain": [
              "<IPython.core.display.HTML object>"
            ],
            "text/html": [
              "Run data is saved locally in <code>/content/wandb/run-20231105_200126-ri5t4q15</code>"
            ]
          },
          "metadata": {}
        },
        {
          "output_type": "display_data",
          "data": {
            "text/plain": [
              "<IPython.core.display.HTML object>"
            ],
            "text/html": [
              "Syncing run <strong><a href='https://wandb.ai/carrostp3/TP3/runs/ri5t4q15' target=\"_blank\">rn50_elu_adadelta_+dropout</a></strong> to <a href='https://wandb.ai/carrostp3/TP3' target=\"_blank\">Weights & Biases</a> (<a href='https://wandb.me/run' target=\"_blank\">docs</a>)<br/>"
            ]
          },
          "metadata": {}
        },
        {
          "output_type": "display_data",
          "data": {
            "text/plain": [
              "<IPython.core.display.HTML object>"
            ],
            "text/html": [
              " View project at <a href='https://wandb.ai/carrostp3/TP3' target=\"_blank\">https://wandb.ai/carrostp3/TP3</a>"
            ]
          },
          "metadata": {}
        },
        {
          "output_type": "display_data",
          "data": {
            "text/plain": [
              "<IPython.core.display.HTML object>"
            ],
            "text/html": [
              " View run at <a href='https://wandb.ai/carrostp3/TP3/runs/ri5t4q15' target=\"_blank\">https://wandb.ai/carrostp3/TP3/runs/ri5t4q15</a>"
            ]
          },
          "metadata": {}
        },
        {
          "output_type": "stream",
          "name": "stdout",
          "text": [
            "[1,   200] loss: 0.161\n",
            "[2,   200] loss: 0.064\n",
            "[3,   200] loss: 0.044\n",
            "[4,   200] loss: 0.034\n",
            "[5,   200] loss: 0.027\n",
            "[6,   200] loss: 0.021\n",
            "[7,   200] loss: 0.018\n",
            "[8,   200] loss: 0.015\n",
            "[9,   200] loss: 0.012\n",
            "[10,   200] loss: 0.010\n",
            "[11,   200] loss: 0.009\n",
            "[12,   200] loss: 0.008\n",
            "[13,   200] loss: 0.007\n",
            "[14,   200] loss: 0.007\n",
            "[15,   200] loss: 0.006\n",
            "[16,   200] loss: 0.005\n",
            "[17,   200] loss: 0.005\n",
            "[18,   200] loss: 0.004\n",
            "[19,   200] loss: 0.004\n",
            "[20,   200] loss: 0.004\n",
            "[21,   200] loss: 0.004\n",
            "[22,   200] loss: 0.003\n",
            "[23,   200] loss: 0.003\n",
            "[24,   200] loss: 0.003\n",
            "[25,   200] loss: 0.003\n",
            "[26,   200] loss: 0.003\n",
            "[27,   200] loss: 0.002\n",
            "[28,   200] loss: 0.002\n",
            "[29,   200] loss: 0.002\n",
            "[30,   200] loss: 0.002\n",
            "[31,   200] loss: 0.002\n",
            "[32,   200] loss: 0.002\n",
            "[33,   200] loss: 0.002\n",
            "[34,   200] loss: 0.002\n",
            "[35,   200] loss: 0.001\n",
            "[36,   200] loss: 0.002\n",
            "[37,   200] loss: 0.002\n",
            "[38,   200] loss: 0.002\n",
            "[39,   200] loss: 0.001\n",
            "[40,   200] loss: 0.002\n",
            "[41,   200] loss: 0.001\n",
            "[42,   200] loss: 0.001\n",
            "[43,   200] loss: 0.001\n",
            "[44,   200] loss: 0.001\n",
            "[45,   200] loss: 0.001\n",
            "[46,   200] loss: 0.001\n",
            "[47,   200] loss: 0.001\n",
            "[48,   200] loss: 0.001\n",
            "[49,   200] loss: 0.001\n",
            "[50,   200] loss: 0.001\n",
            "[51,   200] loss: 0.001\n",
            "[52,   200] loss: 0.001\n",
            "[53,   200] loss: 0.001\n",
            "[54,   200] loss: 0.001\n",
            "[55,   200] loss: 0.001\n",
            "[56,   200] loss: 0.001\n",
            "[57,   200] loss: 0.001\n",
            "[58,   200] loss: 0.001\n",
            "[59,   200] loss: 0.001\n",
            "[60,   200] loss: 0.001\n",
            "[61,   200] loss: 0.001\n",
            "[62,   200] loss: 0.001\n",
            "[63,   200] loss: 0.001\n",
            "[64,   200] loss: 0.001\n",
            "[65,   200] loss: 0.000\n",
            "[66,   200] loss: 0.000\n",
            "[67,   200] loss: 0.001\n",
            "[68,   200] loss: 0.001\n",
            "[69,   200] loss: 0.001\n",
            "[70,   200] loss: 0.001\n",
            "[71,   200] loss: 0.001\n",
            "[72,   200] loss: 0.001\n",
            "[73,   200] loss: 0.001\n",
            "[74,   200] loss: 0.000\n",
            "[75,   200] loss: 0.000\n",
            "[76,   200] loss: 0.001\n",
            "[77,   200] loss: 0.000\n",
            "[78,   200] loss: 0.000\n",
            "[79,   200] loss: 0.000\n",
            "[80,   200] loss: 0.001\n",
            "[81,   200] loss: 0.001\n",
            "[82,   200] loss: 0.000\n",
            "[83,   200] loss: 0.000\n",
            "[84,   200] loss: 0.000\n",
            "[85,   200] loss: 0.001\n",
            "[86,   200] loss: 0.000\n",
            "[87,   200] loss: 0.001\n",
            "[88,   200] loss: 0.000\n",
            "[89,   200] loss: 0.000\n",
            "[90,   200] loss: 0.000\n",
            "Entrenamiento finalizado, accuracy en validation de la mejor epoch: 88.18\n"
          ]
        }
      ],
      "source": [
        "# Importo las librerías necesarias.\n",
        "import torch\n",
        "import torchvision\n",
        "import torchvision.transforms as transforms\n",
        "import torchvision.models as models\n",
        "import torch.nn as nn\n",
        "import torch.nn.functional as F\n",
        "import torch.optim as optim\n",
        "from sklearn.model_selection import train_test_split\n",
        "import torch.utils.data\n",
        "import numpy as np\n",
        "import wandb\n",
        "\n",
        "# Variable que define si se evalua en test o no\n",
        "EVAL_TEST = True\n",
        "\n",
        "# Utilizo GPU de estar disponible.\n",
        "device = torch.device('cuda:0' if torch.cuda.is_available() else 'cpu')\n",
        "\n",
        "# Seteo una semilla para replicabilidad.\n",
        "torch.manual_seed(181988)\n",
        "if torch.cuda.is_available():\n",
        "    torch.cuda.manual_seed(181988)\n",
        "\n",
        "# Parametros\n",
        "batch_size = 128\n",
        "initial_learning_rate = 0.06801699813974062\n",
        "epochs = 90\n",
        "dropout_rate = .2\n",
        "experiment_name = 'rn50_elu_adadelta_dropout.2'\n",
        "project_name = 'TP3'\n",
        "\n",
        "transform_train = transforms.Compose([\n",
        "    transforms.RandomHorizontalFlip(p=0.5),\n",
        "    transforms.ToTensor(),\n",
        "    transforms.Normalize((0.5, 0.5, 0.5), (0.5, 0.5, 0.5))\n",
        "])\n",
        "\n",
        "transform = transforms.Compose([\n",
        "    transforms.ToTensor(),\n",
        "    transforms.Normalize((0.5, 0.5, 0.5), (0.5, 0.5, 0.5))\n",
        "])\n",
        "\n",
        "# Descargo el dataset CIFAR10, divido en training, validation, testing.\n",
        "trainset = torchvision.datasets.CIFAR10(root='./data', train=True, download=True, transform=transform_train) # Con flip en train.\n",
        "valset = torchvision.datasets.CIFAR10(root='./data', train=True, download=True, transform=transform) # Sin flip en val.\n",
        "\n",
        "targets_ = trainset.targets\n",
        "train_idx, val_idx = train_test_split(np.arange(len(targets_)), test_size=0.2, stratify=targets_)\n",
        "train_sampler = torch.utils.data.SubsetRandomSampler(train_idx)\n",
        "val_sampler = torch.utils.data.SubsetRandomSampler(val_idx)\n",
        "\n",
        "trainloader = torch.utils.data.DataLoader(trainset, sampler=train_sampler,batch_size=batch_size, num_workers=2)\n",
        "valloader = torch.utils.data.DataLoader(valset, sampler=val_sampler,batch_size=batch_size, num_workers=2)\n",
        "\n",
        "testset = torchvision.datasets.CIFAR10(root='./data', train=False, download=True, transform=transform) # Sin flip en test.\n",
        "testloader = torch.utils.data.DataLoader(testset, batch_size=batch_size, shuffle=False, num_workers=2)\n",
        "\n",
        "classes = ('plane', 'car', 'bird', 'cat', 'deer', 'dog', 'frog', 'horse', 'ship', 'truck')\n",
        "\n",
        "# Defino la CNN.\n",
        "class NetConv(nn.Module):\n",
        "    def __init__(self):\n",
        "        super().__init__()\n",
        "\n",
        "        self.resnet50 = models.resnet50(weights=True)\n",
        "\n",
        "        num_features = self.resnet50.fc.in_features\n",
        "        self.resnet50.fc = nn.Sequential(\n",
        "            nn.Linear(num_features, 1024),\n",
        "            nn.ELU(),\n",
        "            nn.Dropout(dropout_rate),\n",
        "            nn.Linear(1024, 256),\n",
        "            nn.ELU(),\n",
        "            nn.Dropout(dropout_rate),\n",
        "            nn.Linear(256, 64),\n",
        "            nn.ELU(),\n",
        "            nn.Dropout(dropout_rate),\n",
        "            nn.Linear(64, 16),\n",
        "            nn.ELU(),\n",
        "            nn.Linear(16, 10)\n",
        "        )\n",
        "\n",
        "    def forward(self, x):\n",
        "        x = self.resnet50(x)\n",
        "        return x\n",
        "\n",
        "net = NetConv()\n",
        "net.to(device)\n",
        "\n",
        "# Defino la loss, optimizador y scheduler\n",
        "criterion = nn.CrossEntropyLoss()\n",
        "optimizer = optim.Adadelta(net.parameters(), lr=initial_learning_rate)\n",
        "\n",
        "# Configuración de wandb\n",
        "wandb.init(\n",
        "    project = project_name,\n",
        "    name = experiment_name,\n",
        "    config = {\n",
        "        \"learning_rate\": initial_learning_rate,\n",
        "        \"dropout_rate\": dropout_rate,\n",
        "        \"batch_size\": batch_size,\n",
        "        \"epochs\": epochs,\n",
        "    }\n",
        ")\n",
        "\n",
        "best_accuracy = 0\n",
        "best_epoch = -1\n",
        "\n",
        "# Entrenamiento de la CNN\n",
        "for epoch in range(epochs):\n",
        "    net.train()\n",
        "    running_loss = 0.0\n",
        "    train_correct = 0\n",
        "    total = 0\n",
        "    for i, data in enumerate(trainloader, 0):\n",
        "        inputs, labels = data[0].to(device), data[1].to(device)\n",
        "\n",
        "        optimizer.zero_grad()\n",
        "        outputs = net(inputs)\n",
        "\n",
        "        loss = criterion(outputs, labels)\n",
        "        loss.backward()\n",
        "        optimizer.step()\n",
        "\n",
        "        # Printeo el progreso cada 200 mini-batches.\n",
        "        running_loss += loss.item()\n",
        "        if i % 200 == 199:\n",
        "            print(f'[{epoch + 1}, {i + 1:5d}] loss: {running_loss / 2000:.3f}')\n",
        "\n",
        "\n",
        "        _, predicted = torch.max(outputs.data, 1)\n",
        "        total += labels.size(0)\n",
        "        train_correct += (predicted == labels).sum().item()\n",
        "\n",
        "    # Validacion\n",
        "    train_accuracy = 100 * train_correct / total\n",
        "    running_loss = running_loss / total\n",
        "\n",
        "    val_correct = 0\n",
        "    total = 0\n",
        "    val_loss = 0\n",
        "\n",
        "    net.eval()\n",
        "    with torch.no_grad():\n",
        "        for data in valloader:\n",
        "            images, labels = data[0].to(device), data[1].to(device)\n",
        "            outputs = net(images)\n",
        "            _, predicted = torch.max(outputs.data, 1)\n",
        "            total += labels.size(0)\n",
        "            val_correct += (predicted == labels).sum().item()\n",
        "            val_loss += criterion(outputs, labels).item()\n",
        "\n",
        "    # Para estadisticas en wandb\n",
        "    val_accuracy = 100 * val_correct / total\n",
        "    val_loss = val_loss / total\n",
        "\n",
        "    if val_accuracy > best_accuracy:\n",
        "        best_accuracy = val_accuracy\n",
        "        best_epoch = epoch\n",
        "        best_model_state_dict = net.state_dict()\n",
        "\n",
        "    wandb.log({ \"train_accuracy\": train_accuracy, \"val_accuracy\": val_accuracy, \"train_loss\": running_loss, \"val_loss\": val_loss})\n",
        "\n",
        "# Indico por consola cuando finalizó el entrenamiento\n",
        "print(\"Entrenamiento finalizado, accuracy en validation de la mejor epoch: \"+ str(best_accuracy))\n",
        "\n",
        "# Guardo el modelo entrenado en disco\n",
        "PATH = './cifar_net.pth'\n",
        "torch.save(best_model_state_dict, PATH)"
      ]
    },
    {
      "cell_type": "code",
      "execution_count": null,
      "metadata": {
        "colab": {
          "base_uri": "https://localhost:8080/",
          "height": 330,
          "referenced_widgets": [
            "ac1eb6271aea4789bd7448e5af030f51",
            "964f61ea42854d96b79895e7eb3900a0",
            "56a3540f1edb4d43943c158492dbd428",
            "8ba7e7ec3e0d43a99545a91a82b48248",
            "368e0816432e4fab91b81d0d0c3cd18b",
            "98a0e3e0acf54512ba4809411ae8009f",
            "dc5e58fb47404ecb9657e9dfc270d3ad",
            "60f1a3dc5f9e4d8b9409038c28cb4936"
          ]
        },
        "id": "J6XLgucwPS2X",
        "outputId": "a9c6e246-a164-47f8-a078-6144e732b4cb"
      },
      "outputs": [
        {
          "output_type": "display_data",
          "data": {
            "text/plain": [
              "<IPython.core.display.HTML object>"
            ],
            "text/html": [
              "Waiting for W&B process to finish... <strong style=\"color:green\">(success).</strong>"
            ]
          },
          "metadata": {}
        },
        {
          "output_type": "display_data",
          "data": {
            "text/plain": [
              "VBox(children=(Label(value='0.001 MB of 0.012 MB uploaded (0.000 MB deduped)\\r'), FloatProgress(value=0.099232…"
            ],
            "application/vnd.jupyter.widget-view+json": {
              "version_major": 2,
              "version_minor": 0,
              "model_id": "ac1eb6271aea4789bd7448e5af030f51"
            }
          },
          "metadata": {}
        },
        {
          "output_type": "display_data",
          "data": {
            "text/plain": [
              "<IPython.core.display.HTML object>"
            ],
            "text/html": [
              "<style>\n",
              "    table.wandb td:nth-child(1) { padding: 0 10px; text-align: left ; width: auto;} td:nth-child(2) {text-align: left ; width: 100%}\n",
              "    .wandb-row { display: flex; flex-direction: row; flex-wrap: wrap; justify-content: flex-start; width: 100% }\n",
              "    .wandb-col { display: flex; flex-direction: column; flex-basis: 100%; flex: 1; padding: 10px; }\n",
              "    </style>\n",
              "<div class=\"wandb-row\"><div class=\"wandb-col\"><h3>Run history:</h3><br/><table class=\"wandb\"><tr><td>train_accuracy</td><td>▁▆▇▇████████████████████████████████████</td></tr><tr><td>train_loss</td><td>█▃▂▂▂▁▁▁▁▁▁▁▁▁▁▁▁▁▁▁▁▁▁▁▁▁▁▁▁▁▁▁▁▁▁▁▁▁▁▁</td></tr><tr><td>val_accuracy</td><td>▁▅▆▆▇▇▇▇▇▇▇▇▇█▇▇█▇▇▇▇▇▇████▇██████████▇█</td></tr><tr><td>val_loss</td><td>▅▁▁▁▂▂▃▃▃▃▄▄▅▄▄▅▄▅▅▅▆▇▆▆▄▅▆▆▅▆▅▅▆▆▇▇▇▆█▇</td></tr></table><br/></div><div class=\"wandb-col\"><h3>Run summary:</h3><br/><table class=\"wandb\"><tr><td>train_accuracy</td><td>99.855</td></tr><tr><td>train_loss</td><td>4e-05</td></tr><tr><td>val_accuracy</td><td>87.48</td></tr><tr><td>val_loss</td><td>0.00654</td></tr></table><br/></div></div>"
            ]
          },
          "metadata": {}
        },
        {
          "output_type": "display_data",
          "data": {
            "text/plain": [
              "<IPython.core.display.HTML object>"
            ],
            "text/html": [
              " View run <strong style=\"color:#cdcd00\">rn50_elu_adadelta_+dropout</strong> at: <a href='https://wandb.ai/carrostp3/TP3/runs/ri5t4q15' target=\"_blank\">https://wandb.ai/carrostp3/TP3/runs/ri5t4q15</a><br/>Synced 5 W&B file(s), 0 media file(s), 0 artifact file(s) and 0 other file(s)"
            ]
          },
          "metadata": {}
        },
        {
          "output_type": "display_data",
          "data": {
            "text/plain": [
              "<IPython.core.display.HTML object>"
            ],
            "text/html": [
              "Find logs at: <code>./wandb/run-20231105_200126-ri5t4q15/logs</code>"
            ]
          },
          "metadata": {}
        }
      ],
      "source": [
        "wandb.finish()"
      ]
    },
    {
      "cell_type": "code",
      "source": [
        "if EVAL_TEST:\n",
        "  net = NetConv()\n",
        "  net.load_state_dict(torch.load(PATH))\n",
        "  images = images.to(device)\n",
        "\n",
        "  correct = 0\n",
        "  total = 0\n",
        "  # since we're not training, we don't need to calculate the gradients for our outputs\n",
        "  with torch.no_grad():\n",
        "      for data in testloader:\n",
        "          images, labels = data\n",
        "          # calculate outputs by running images through the network\n",
        "          outputs = net(images)\n",
        "          # the class with the highest energy is what we choose as prediction\n",
        "          _, predicted = torch.max(outputs.data, 1)\n",
        "          total += labels.size(0)\n",
        "          correct += (predicted == labels).sum().item()\n",
        "\n",
        "  print(f'Accuracy of the network on the 10000 test images: {100 * correct // total} %')"
      ],
      "metadata": {
        "colab": {
          "base_uri": "https://localhost:8080/"
        },
        "id": "sDgMGSN1PX1h",
        "outputId": "8b6e2719-c49a-4be2-b3b2-7c59a7006d74"
      },
      "execution_count": null,
      "outputs": [
        {
          "output_type": "stream",
          "name": "stdout",
          "text": [
            "Accuracy of the network on the 10000 test images: 86 %\n"
          ]
        }
      ]
    },
    {
      "cell_type": "code",
      "source": [
        "if EVAL_TEST:\n",
        "  # prepare to count predictions for each class\n",
        "  correct_pred = {classname: 0 for classname in classes}\n",
        "  total_pred = {classname: 0 for classname in classes}\n",
        "\n",
        "  # again no gradients needed\n",
        "  with torch.no_grad():\n",
        "      for data in testloader:\n",
        "          images, labels = data\n",
        "          outputs = net(images)\n",
        "          _, predictions = torch.max(outputs, 1)\n",
        "          # collect the correct predictions for each class\n",
        "          for label, prediction in zip(labels, predictions):\n",
        "              if label == prediction:\n",
        "                  correct_pred[classes[label]] += 1\n",
        "              total_pred[classes[label]] += 1\n",
        "\n",
        "\n",
        "  # print accuracy for each class\n",
        "  for classname, correct_count in correct_pred.items():\n",
        "      accuracy = 100 * float(correct_count) / total_pred[classname]\n",
        "      print(f'Accuracy for class: {classname:5s} is {accuracy:.1f} %')"
      ],
      "metadata": {
        "colab": {
          "base_uri": "https://localhost:8080/"
        },
        "id": "nyDPy24wSkFu",
        "outputId": "aeda3af1-42a3-4377-e2fd-71ec66a19a03"
      },
      "execution_count": null,
      "outputs": [
        {
          "output_type": "stream",
          "name": "stdout",
          "text": [
            "Accuracy for class: plane is 83.8 %\n",
            "Accuracy for class: car   is 93.5 %\n",
            "Accuracy for class: bird  is 84.4 %\n",
            "Accuracy for class: cat   is 73.4 %\n",
            "Accuracy for class: deer  is 86.9 %\n",
            "Accuracy for class: dog   is 78.2 %\n",
            "Accuracy for class: frog  is 90.4 %\n",
            "Accuracy for class: horse is 87.5 %\n",
            "Accuracy for class: ship  is 92.6 %\n",
            "Accuracy for class: truck is 90.2 %\n"
          ]
        }
      ]
    }
  ],
  "metadata": {
    "accelerator": "GPU",
    "colab": {
      "gpuType": "T4",
      "provenance": []
    },
    "kernelspec": {
      "display_name": "Python 3",
      "name": "python3"
    },
    "language_info": {
      "name": "python"
    },
    "widgets": {
      "application/vnd.jupyter.widget-state+json": {
        "ac1eb6271aea4789bd7448e5af030f51": {
          "model_module": "@jupyter-widgets/controls",
          "model_name": "VBoxModel",
          "model_module_version": "1.5.0",
          "state": {
            "_dom_classes": [],
            "_model_module": "@jupyter-widgets/controls",
            "_model_module_version": "1.5.0",
            "_model_name": "VBoxModel",
            "_view_count": null,
            "_view_module": "@jupyter-widgets/controls",
            "_view_module_version": "1.5.0",
            "_view_name": "VBoxView",
            "box_style": "",
            "children": [
              "IPY_MODEL_964f61ea42854d96b79895e7eb3900a0",
              "IPY_MODEL_56a3540f1edb4d43943c158492dbd428"
            ],
            "layout": "IPY_MODEL_8ba7e7ec3e0d43a99545a91a82b48248"
          }
        },
        "964f61ea42854d96b79895e7eb3900a0": {
          "model_module": "@jupyter-widgets/controls",
          "model_name": "LabelModel",
          "model_module_version": "1.5.0",
          "state": {
            "_dom_classes": [],
            "_model_module": "@jupyter-widgets/controls",
            "_model_module_version": "1.5.0",
            "_model_name": "LabelModel",
            "_view_count": null,
            "_view_module": "@jupyter-widgets/controls",
            "_view_module_version": "1.5.0",
            "_view_name": "LabelView",
            "description": "",
            "description_tooltip": null,
            "layout": "IPY_MODEL_368e0816432e4fab91b81d0d0c3cd18b",
            "placeholder": "​",
            "style": "IPY_MODEL_98a0e3e0acf54512ba4809411ae8009f",
            "value": "0.001 MB of 0.012 MB uploaded (0.000 MB deduped)\r"
          }
        },
        "56a3540f1edb4d43943c158492dbd428": {
          "model_module": "@jupyter-widgets/controls",
          "model_name": "FloatProgressModel",
          "model_module_version": "1.5.0",
          "state": {
            "_dom_classes": [],
            "_model_module": "@jupyter-widgets/controls",
            "_model_module_version": "1.5.0",
            "_model_name": "FloatProgressModel",
            "_view_count": null,
            "_view_module": "@jupyter-widgets/controls",
            "_view_module_version": "1.5.0",
            "_view_name": "ProgressView",
            "bar_style": "",
            "description": "",
            "description_tooltip": null,
            "layout": "IPY_MODEL_dc5e58fb47404ecb9657e9dfc270d3ad",
            "max": 1,
            "min": 0,
            "orientation": "horizontal",
            "style": "IPY_MODEL_60f1a3dc5f9e4d8b9409038c28cb4936",
            "value": 0.09923294307630198
          }
        },
        "8ba7e7ec3e0d43a99545a91a82b48248": {
          "model_module": "@jupyter-widgets/base",
          "model_name": "LayoutModel",
          "model_module_version": "1.2.0",
          "state": {
            "_model_module": "@jupyter-widgets/base",
            "_model_module_version": "1.2.0",
            "_model_name": "LayoutModel",
            "_view_count": null,
            "_view_module": "@jupyter-widgets/base",
            "_view_module_version": "1.2.0",
            "_view_name": "LayoutView",
            "align_content": null,
            "align_items": null,
            "align_self": null,
            "border": null,
            "bottom": null,
            "display": null,
            "flex": null,
            "flex_flow": null,
            "grid_area": null,
            "grid_auto_columns": null,
            "grid_auto_flow": null,
            "grid_auto_rows": null,
            "grid_column": null,
            "grid_gap": null,
            "grid_row": null,
            "grid_template_areas": null,
            "grid_template_columns": null,
            "grid_template_rows": null,
            "height": null,
            "justify_content": null,
            "justify_items": null,
            "left": null,
            "margin": null,
            "max_height": null,
            "max_width": null,
            "min_height": null,
            "min_width": null,
            "object_fit": null,
            "object_position": null,
            "order": null,
            "overflow": null,
            "overflow_x": null,
            "overflow_y": null,
            "padding": null,
            "right": null,
            "top": null,
            "visibility": null,
            "width": null
          }
        },
        "368e0816432e4fab91b81d0d0c3cd18b": {
          "model_module": "@jupyter-widgets/base",
          "model_name": "LayoutModel",
          "model_module_version": "1.2.0",
          "state": {
            "_model_module": "@jupyter-widgets/base",
            "_model_module_version": "1.2.0",
            "_model_name": "LayoutModel",
            "_view_count": null,
            "_view_module": "@jupyter-widgets/base",
            "_view_module_version": "1.2.0",
            "_view_name": "LayoutView",
            "align_content": null,
            "align_items": null,
            "align_self": null,
            "border": null,
            "bottom": null,
            "display": null,
            "flex": null,
            "flex_flow": null,
            "grid_area": null,
            "grid_auto_columns": null,
            "grid_auto_flow": null,
            "grid_auto_rows": null,
            "grid_column": null,
            "grid_gap": null,
            "grid_row": null,
            "grid_template_areas": null,
            "grid_template_columns": null,
            "grid_template_rows": null,
            "height": null,
            "justify_content": null,
            "justify_items": null,
            "left": null,
            "margin": null,
            "max_height": null,
            "max_width": null,
            "min_height": null,
            "min_width": null,
            "object_fit": null,
            "object_position": null,
            "order": null,
            "overflow": null,
            "overflow_x": null,
            "overflow_y": null,
            "padding": null,
            "right": null,
            "top": null,
            "visibility": null,
            "width": null
          }
        },
        "98a0e3e0acf54512ba4809411ae8009f": {
          "model_module": "@jupyter-widgets/controls",
          "model_name": "DescriptionStyleModel",
          "model_module_version": "1.5.0",
          "state": {
            "_model_module": "@jupyter-widgets/controls",
            "_model_module_version": "1.5.0",
            "_model_name": "DescriptionStyleModel",
            "_view_count": null,
            "_view_module": "@jupyter-widgets/base",
            "_view_module_version": "1.2.0",
            "_view_name": "StyleView",
            "description_width": ""
          }
        },
        "dc5e58fb47404ecb9657e9dfc270d3ad": {
          "model_module": "@jupyter-widgets/base",
          "model_name": "LayoutModel",
          "model_module_version": "1.2.0",
          "state": {
            "_model_module": "@jupyter-widgets/base",
            "_model_module_version": "1.2.0",
            "_model_name": "LayoutModel",
            "_view_count": null,
            "_view_module": "@jupyter-widgets/base",
            "_view_module_version": "1.2.0",
            "_view_name": "LayoutView",
            "align_content": null,
            "align_items": null,
            "align_self": null,
            "border": null,
            "bottom": null,
            "display": null,
            "flex": null,
            "flex_flow": null,
            "grid_area": null,
            "grid_auto_columns": null,
            "grid_auto_flow": null,
            "grid_auto_rows": null,
            "grid_column": null,
            "grid_gap": null,
            "grid_row": null,
            "grid_template_areas": null,
            "grid_template_columns": null,
            "grid_template_rows": null,
            "height": null,
            "justify_content": null,
            "justify_items": null,
            "left": null,
            "margin": null,
            "max_height": null,
            "max_width": null,
            "min_height": null,
            "min_width": null,
            "object_fit": null,
            "object_position": null,
            "order": null,
            "overflow": null,
            "overflow_x": null,
            "overflow_y": null,
            "padding": null,
            "right": null,
            "top": null,
            "visibility": null,
            "width": null
          }
        },
        "60f1a3dc5f9e4d8b9409038c28cb4936": {
          "model_module": "@jupyter-widgets/controls",
          "model_name": "ProgressStyleModel",
          "model_module_version": "1.5.0",
          "state": {
            "_model_module": "@jupyter-widgets/controls",
            "_model_module_version": "1.5.0",
            "_model_name": "ProgressStyleModel",
            "_view_count": null,
            "_view_module": "@jupyter-widgets/base",
            "_view_module_version": "1.2.0",
            "_view_name": "StyleView",
            "bar_color": null,
            "description_width": ""
          }
        }
      }
    }
  },
  "nbformat": 4,
  "nbformat_minor": 0
}